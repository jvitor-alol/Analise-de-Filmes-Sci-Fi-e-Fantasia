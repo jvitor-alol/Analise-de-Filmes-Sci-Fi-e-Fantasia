{
 "cells": [
  {
   "cell_type": "code",
   "execution_count": 1,
   "id": "5d27ce4d-14d5-4778-85da-d18a0c80cbd4",
   "metadata": {},
   "outputs": [],
   "source": [
    "from pyspark.sql import SparkSession, functions as F\n",
    "from datetime import datetime"
   ]
  },
  {
   "cell_type": "code",
   "execution_count": 2,
   "id": "e6d09502-e827-44b0-8672-0f7d0daa51ac",
   "metadata": {},
   "outputs": [],
   "source": [
    "spark = SparkSession \\\n",
    "    .builder \\\n",
    "    .master(\"local[*]\")\\\n",
    "    .appName(\"Processamento Trusted TMDB\") \\\n",
    "    .getOrCreate()"
   ]
  },
  {
   "cell_type": "code",
   "execution_count": 3,
   "id": "836e139b-b9f7-40a1-a75f-9e66d716ea8b",
   "metadata": {},
   "outputs": [
    {
     "name": "stdout",
     "output_type": "stream",
     "text": [
      "+--------+--------------------+------+----------+----------+------------+---------+-------+--------------------+------------+----------+\n",
      "|  budget|              genres|    id|   imdb_id|popularity|release_date|  revenue|runtime|               title|vote_average|vote_count|\n",
      "+--------+--------------------+------+----------+----------+------------+---------+-------+--------------------+------------+----------+\n",
      "|       0|[{27, Horror}, {1...|324787| tt3591944|     3.569|  2015-02-13|        0|     81|Little Red Riding...|         3.6|         9|\n",
      "| 2310000|[{14, Fantasy}, {...|576026| tt9875852|     7.997|  2019-04-11|        0|     90|       The House Elf|         7.0|        68|\n",
      "|       0|[{27, Horror}, {9...|614372| tt6472234|       0.6|  2019-07-09|        0|     98|        Landing Lake|         7.3|         3|\n",
      "|       0|[{28, Action}, {3...|808516| tt0015053|     1.024|  1924-11-23|        0|     59|  Laughing at Danger|         6.5|         1|\n",
      "|       0|[{27, Horror}, {9...| 58432| tt0484273|      5.12|  2006-10-06|        0|     92|       The Dark Hour|         5.6|        51|\n",
      "|       0|[{35, Comedy}, {1...| 73624| tt2027178|     8.501|  2011-09-02|  5799606|    106|The Man from the ...|         7.2|       344|\n",
      "|       0|[{27, Horror}, {5...|188633| tt3079634|     0.903|  2013-03-27|        0|     93|Sembunyi: Amukan ...|         6.5|         2|\n",
      "|       0|[{878, Science Fi...|800705|tt14134070|     5.248|  2021-02-26|        0|     87|      Alien Conquest|         2.2|        18|\n",
      "|55000000|[{10749, Romance}...|   795| tt0120632|    21.145|  1998-04-10|198685114|    114|      City of Angels|         6.8|      2022|\n",
      "|       0|[{14, Fantasy}, {...|799197|tt13904268|     2.779|  2021-05-21|   542849|     77|Police × Heroine ...|         6.0|         1|\n",
      "|       0|[{18, Drama}, {87...|775548| tt3292124|       0.6|  2013-09-08|        0|     47|             Unlucky|         3.0|         1|\n",
      "|       0|[{878, Science Fi...|352743| tt1067584|     0.878|  2007-08-22|        0|      0|               Xenoa|         0.0|         0|\n",
      "|       0|[{878, Science Fi...|923995| tt8706138|     1.896|  2020-03-13|        0|     99|     Infrared Dreams|         6.9|        13|\n",
      "|     230|[{878, Science Fi...|352998| tt3686104|     0.775|  2015-08-20|        0|     72|             Dog Men|         5.0|         3|\n",
      "|       0|      [{35, Comedy}]|401311| tt0055403|       0.6|  1960-01-01|        0|     64|     The Sand Castle|         6.0|         1|\n",
      "|       0|[{16, Animation},...| 39106| tt0142234|    47.858|  1994-07-09| 19500000|     50|Dragon Ball Z: Bi...|         5.7|       486|\n",
      "| 8000000|[{878, Science Fi...|  9507| tt0088024|      9.81|  1984-12-14|  6770587|    100|             Runaway|         5.5|       226|\n",
      "|       0|[{28, Action}, {1...| 88882| tt0232622|     1.226|  1995-10-25|        0|     51|Shadow Skill: Epi...|         5.2|         6|\n",
      "|       0|[{28, Action}, {3...|156991| tt0070831|     1.823|  1973-08-28|        0|     94|Three Supermen of...|         5.0|         1|\n",
      "|       0|[{878, Science Fi...|365023| tt0310292|      1.02|  1984-01-01|        0|     65|Three Supermen at...|         2.0|         2|\n",
      "+--------+--------------------+------+----------+----------+------------+---------+-------+--------------------+------------+----------+\n",
      "only showing top 20 rows\n",
      "\n"
     ]
    }
   ],
   "source": [
    "input_path='assets/data/Layers/Raw/TMDB/JSON/2024/03/27'\n",
    "df = spark.read.option(\"encoding\", \"UTF-8\").json(input_path)\n",
    "df.show()"
   ]
  },
  {
   "cell_type": "code",
   "execution_count": 4,
   "id": "5dd5778e-0c47-4044-b179-1558dc0353f1",
   "metadata": {},
   "outputs": [
    {
     "name": "stdout",
     "output_type": "stream",
     "text": [
      "root\n",
      " |-- budget: long (nullable = true)\n",
      " |-- genres: array (nullable = true)\n",
      " |    |-- element: struct (containsNull = true)\n",
      " |    |    |-- id: long (nullable = true)\n",
      " |    |    |-- name: string (nullable = true)\n",
      " |-- id: long (nullable = true)\n",
      " |-- imdb_id: string (nullable = true)\n",
      " |-- popularity: double (nullable = true)\n",
      " |-- release_date: string (nullable = true)\n",
      " |-- revenue: long (nullable = true)\n",
      " |-- runtime: long (nullable = true)\n",
      " |-- title: string (nullable = true)\n",
      " |-- vote_average: double (nullable = true)\n",
      " |-- vote_count: long (nullable = true)\n",
      "\n"
     ]
    },
    {
     "data": {
      "text/plain": [
       "12876"
      ]
     },
     "execution_count": 4,
     "metadata": {},
     "output_type": "execute_result"
    }
   ],
   "source": [
    "df.printSchema()\n",
    "df.count()"
   ]
  },
  {
   "cell_type": "code",
   "execution_count": 5,
   "id": "db02ad5b-f76a-4a6a-9d76-cc8ba684c2c8",
   "metadata": {},
   "outputs": [
    {
     "name": "stdout",
     "output_type": "stream",
     "text": [
      "+--------+------+----------+----------+------------+---------+-------+--------------------+------------+----------+\n",
      "|  budget|    id|   imdb_id|popularity|release_date|  revenue|runtime|               title|vote_average|vote_count|\n",
      "+--------+------+----------+----------+------------+---------+-------+--------------------+------------+----------+\n",
      "|       0|324787| tt3591944|     3.569|  2015-02-13|        0|     81|Little Red Riding...|         3.6|         9|\n",
      "| 2310000|576026| tt9875852|     7.997|  2019-04-11|        0|     90|       The House Elf|         7.0|        68|\n",
      "|       0|614372| tt6472234|       0.6|  2019-07-09|        0|     98|        Landing Lake|         7.3|         3|\n",
      "|       0|808516| tt0015053|     1.024|  1924-11-23|        0|     59|  Laughing at Danger|         6.5|         1|\n",
      "|       0| 58432| tt0484273|      5.12|  2006-10-06|        0|     92|       The Dark Hour|         5.6|        51|\n",
      "|       0| 73624| tt2027178|     8.501|  2011-09-02|  5799606|    106|The Man from the ...|         7.2|       344|\n",
      "|       0|188633| tt3079634|     0.903|  2013-03-27|        0|     93|Sembunyi: Amukan ...|         6.5|         2|\n",
      "|       0|800705|tt14134070|     5.248|  2021-02-26|        0|     87|      Alien Conquest|         2.2|        18|\n",
      "|55000000|   795| tt0120632|    21.145|  1998-04-10|198685114|    114|      City of Angels|         6.8|      2022|\n",
      "|       0|799197|tt13904268|     2.779|  2021-05-21|   542849|     77|Police × Heroine ...|         6.0|         1|\n",
      "|       0|775548| tt3292124|       0.6|  2013-09-08|        0|     47|             Unlucky|         3.0|         1|\n",
      "|       0|352743| tt1067584|     0.878|  2007-08-22|        0|      0|               Xenoa|         0.0|         0|\n",
      "|       0|923995| tt8706138|     1.896|  2020-03-13|        0|     99|     Infrared Dreams|         6.9|        13|\n",
      "|     230|352998| tt3686104|     0.775|  2015-08-20|        0|     72|             Dog Men|         5.0|         3|\n",
      "|       0|401311| tt0055403|       0.6|  1960-01-01|        0|     64|     The Sand Castle|         6.0|         1|\n",
      "|       0| 39106| tt0142234|    47.858|  1994-07-09| 19500000|     50|Dragon Ball Z: Bi...|         5.7|       486|\n",
      "| 8000000|  9507| tt0088024|      9.81|  1984-12-14|  6770587|    100|             Runaway|         5.5|       226|\n",
      "|       0| 88882| tt0232622|     1.226|  1995-10-25|        0|     51|Shadow Skill: Epi...|         5.2|         6|\n",
      "|       0|156991| tt0070831|     1.823|  1973-08-28|        0|     94|Three Supermen of...|         5.0|         1|\n",
      "|       0|365023| tt0310292|      1.02|  1984-01-01|        0|     65|Three Supermen at...|         2.0|         2|\n",
      "+--------+------+----------+----------+------------+---------+-------+--------------------+------------+----------+\n",
      "only showing top 20 rows\n",
      "\n",
      "root\n",
      " |-- budget: long (nullable = true)\n",
      " |-- id: long (nullable = true)\n",
      " |-- imdb_id: string (nullable = true)\n",
      " |-- popularity: double (nullable = true)\n",
      " |-- release_date: date (nullable = true)\n",
      " |-- revenue: long (nullable = true)\n",
      " |-- runtime: long (nullable = true)\n",
      " |-- title: string (nullable = true)\n",
      " |-- vote_average: double (nullable = true)\n",
      " |-- vote_count: long (nullable = true)\n",
      "\n"
     ]
    },
    {
     "data": {
      "text/plain": [
       "12876"
      ]
     },
     "execution_count": 5,
     "metadata": {},
     "output_type": "execute_result"
    }
   ],
   "source": [
    "df = df.drop(\"genres\")\n",
    "df = df.withColumn('release_date', F.to_date(df['release_date'], 'yyyy-MM-dd'))\n",
    "df.show()\n",
    "df.printSchema()\n",
    "df.count()"
   ]
  },
  {
   "cell_type": "code",
   "execution_count": 6,
   "id": "6679b6d0-9d18-40cc-9673-9cdd4331718a",
   "metadata": {},
   "outputs": [
    {
     "name": "stdout",
     "output_type": "stream",
     "text": [
      "+---------+------+---------+----------+------------+----------+-------+--------------------+------------+----------+\n",
      "|   budget|    id|  imdb_id|popularity|release_date|   revenue|runtime|               title|vote_average|vote_count|\n",
      "+---------+------+---------+----------+------------+----------+-------+--------------------+------------+----------+\n",
      "| 55000000|   795|tt0120632|    21.145|  1998-04-10| 198685114|    114|      City of Angels|         6.8|      2022|\n",
      "|  8000000|  9507|tt0088024|      9.81|  1984-12-14|   6770587|    100|             Runaway|         5.5|       226|\n",
      "|  2020000| 30145|tt0151572|      6.83|  1998-12-18|   4374994|    104|The Miracle of P....|         6.7|        98|\n",
      "|300000000|299536|tt4154756|   193.962|  2018-04-25|2052415039|    149|Avengers: Infinit...|         8.2|     28661|\n",
      "| 30000000|  1450|tt0806027|    15.018|  2009-04-02|   5874530|     91|Blood: The Last V...|         5.7|       327|\n",
      "|200000000|   296|tt0181852|    84.467|  2003-07-02| 435000000|    109|Terminator 3: Ris...|         6.2|      6320|\n",
      "| 12000000| 31909|tt0091276|    14.859|  1986-06-06|   4884663|    100|  Invaders from Mars|         5.5|       227|\n",
      "| 60000000| 58244|tt1374992|    16.044|  2012-09-27|  22187813|    104|         Upside Down|         6.3|      2402|\n",
      "|140000000|  1771|tt0458339|    56.862|  2011-07-22| 370569774|    124|Captain America: ...|         7.0|     20789|\n",
      "| 60000000|   201|tt0253754|    20.937|  2002-12-13|  67312826|    116|  Star Trek: Nemesis|         6.3|      1337|\n",
      "|  4000000|  9300|tt0107756|    10.641|  1992-12-11|   5377643|     90|             Orlando|         6.9|       295|\n",
      "|  2000000| 28148|tt0087805|     8.869|  1984-09-14|   7610785|     92|Ninja III: The Do...|         6.1|       114|\n",
      "| 32000000|109414|tt1245492|    38.502|  2013-06-12| 126041322|    106|     This Is the End|         6.2|      6111|\n",
      "|  5000000| 19051|tt0093744|      8.93|  1988-07-06|   3569939|    100|The New Adventure...|         5.7|        71|\n",
      "| 12000000| 11559|tt0410764|    13.597|  2005-09-09|    566611|    120|            Tideland|         6.5|       525|\n",
      "| 30000000|  7916|tt0400426|     7.385|  2008-10-02|       743|     95|             Far Cry|         3.7|       277|\n",
      "| 10000000|268689|tt3633118|     3.834|  2015-03-26|   1921923|     86|Wicked Flying Mon...|         5.5|        21|\n",
      "| 68000000|  9824|tt0132347|    18.758|  1999-08-06|  29762011|    121|         Mystery Men|         5.8|       781|\n",
      "|  5250000| 10496|tt0200469|    11.582|  1999-10-22|  10200000|     91|                Bats|         4.4|       179|\n",
      "|   750000|  8327|tt0071615|     16.39|  1973-11-29|     96262|    114|   The Holy Mountain|         7.6|       846|\n",
      "+---------+------+---------+----------+------------+----------+-------+--------------------+------------+----------+\n",
      "only showing top 20 rows\n",
      "\n"
     ]
    },
    {
     "data": {
      "text/plain": [
       "1407"
      ]
     },
     "execution_count": 6,
     "metadata": {},
     "output_type": "execute_result"
    }
   ],
   "source": [
    "df_novo = df.filter(\n",
    "    (F.col(\"revenue\") != 0) & (F.col(\"budget\") != 0) & (F.col(\"runtime\") != 0))\n",
    "df_novo.show()\n",
    "df_novo.count()"
   ]
  },
  {
   "cell_type": "code",
   "execution_count": 7,
   "id": "b83081ea-b51d-4aeb-bd91-59b740a247d5",
   "metadata": {},
   "outputs": [
    {
     "name": "stdout",
     "output_type": "stream",
     "text": [
      "+--------+------+----------+----------+------------+--------+-------+--------------------+------------+----------+\n",
      "|  budget|    id|   imdb_id|popularity|release_date| revenue|runtime|               title|vote_average|vote_count|\n",
      "+--------+------+----------+----------+------------+--------+-------+--------------------+------------+----------+\n",
      "|    3000| 65104| tt0466103|     1.113|  2005-06-17|   24000|    107|                Dust|         5.6|        31|\n",
      "| 4000000| 36775| tt0062657|     5.773|  1967-12-22|10000000|    102|       The Ambushers|         5.0|        31|\n",
      "|  620000|330418| tt4806232|     3.239|  2015-06-26| 1400000|    146|  Indru Netru Naalai|         7.7|        31|\n",
      "| 4000000| 36271| tt0116770|     4.602|  1996-11-15|  219449|     98|       Killer Tongue|         5.4|        32|\n",
      "| 5000000| 76516| tt0100129|     3.641|  1990-11-08|  485772|     90| Meet the Applegates|         5.5|        32|\n",
      "| 3000000| 62732| tt1414840|     1.684|  2008-12-23|17850711|    100|       Lovey-Dovey 2|         4.7|        33|\n",
      "| 1500000| 16427| tt0377744|     2.528|  2004-05-14|10057021|     98|A Day Without a M...|         5.0|        33|\n",
      "|20000000| 30379| tt0263728|     5.046|  2001-09-07| 6000000|    104|Megiddo: The Omeg...|         4.5|        35|\n",
      "| 5900000| 97519| tt0070337|     7.124|  1973-03-14| 3800000|    147|        Lost Horizon|         5.5|        35|\n",
      "| 3800000|589759|tt11006950|       5.2|  2022-11-03| 3562423|     88|The Nutcracker an...|         6.7|        36|\n",
      "| 8000000| 25805| tt1293793|      4.24|  2009-10-29|10814122|    101| The Book of Masters|         4.6|        37|\n",
      "|  662141| 59964| tt0035703|     2.685|  1943-04-09| 1606624|     98|    Cabin in the Sky|         6.3|        37|\n",
      "|  640000| 28685| tt0091464|     4.932|  1986-07-20| 2459000|     90|             Malcolm|         6.5|        38|\n",
      "|   10000|951546| tt7909204|    113.88|  2022-04-12|     100|     77|      Reign of Chaos|         5.6|        38|\n",
      "|10000000|462115| tt5662550|     8.023|  2017-07-19|  151493|     92|        Dead Trigger|         3.8|        40|\n",
      "|   65000| 27642| tt0060877|     4.786|  1966-03-01| 1730000|     81|      Queen of Blood|         5.4|        40|\n",
      "| 8500000|211166| tt1456606|     7.649|  2014-09-12|  600000|    110|     Rio, I Love You|         4.9|        41|\n",
      "| 1500000| 25952| tt0047947|     5.258|  1955-04-20| 1000000|     81|   Conquest of Space|         5.6|        41|\n",
      "| 3500000| 42622| tt0062974|     5.661|  1968-10-09|11600000|    144|    Finian's Rainbow|         5.8|        41|\n",
      "| 3500000| 37851| tt1620549|     3.322|  2010-04-15| 2294357|     86|Hooked on the Gam...|         5.0|        42|\n",
      "+--------+------+----------+----------+------------+--------+-------+--------------------+------------+----------+\n",
      "only showing top 20 rows\n",
      "\n"
     ]
    },
    {
     "data": {
      "text/plain": [
       "1316"
      ]
     },
     "execution_count": 7,
     "metadata": {},
     "output_type": "execute_result"
    }
   ],
   "source": [
    "df_novo = df_novo.filter(F.col(\"vote_count\") >= 30)\n",
    "df_novo.orderBy(F.col(\"vote_count\")).show()\n",
    "df_novo.count()"
   ]
  },
  {
   "cell_type": "code",
   "execution_count": 8,
   "id": "74ef757f-f4ae-4255-aad0-b35e82af8948",
   "metadata": {},
   "outputs": [
    {
     "name": "stdout",
     "output_type": "stream",
     "text": [
      "Data extraída: 2024-03-27\n"
     ]
    }
   ],
   "source": [
    "caminho = \"s3://jvitor-desafio/Raw/TMDB/JSON/2024/03/27/\"\n",
    "partes = caminho.split(\"/\")\n",
    "\n",
    "# A última parte do caminho é a data no formato \"YYYY/MM/DD\"\n",
    "ano = partes[-4]\n",
    "mes = partes[-3]\n",
    "dia = partes[-2]\n",
    "\n",
    "data_str = f\"{ano}-{mes}-{dia}\"\n",
    "\n",
    "data = datetime.strptime(data_str, \"%Y-%m-%d\").date()\n",
    "\n",
    "print(\"Data extraída:\", data)\n"
   ]
  },
  {
   "cell_type": "code",
   "execution_count": 9,
   "id": "161f6864-f0a9-4b72-aeaf-309564055334",
   "metadata": {},
   "outputs": [],
   "source": [
    "df_novo = df_novo.withColumn(\"extraction_date\", F.lit(data))"
   ]
  },
  {
   "cell_type": "code",
   "execution_count": 10,
   "id": "a95c21f1-f3f6-49fb-8a43-62b590c9891a",
   "metadata": {},
   "outputs": [
    {
     "name": "stdout",
     "output_type": "stream",
     "text": [
      "+---------+------+---------+----------+------------+----------+-------+--------------------+------------+----------+---------------+\n",
      "|   budget|    id|  imdb_id|popularity|release_date|   revenue|runtime|               title|vote_average|vote_count|extraction_date|\n",
      "+---------+------+---------+----------+------------+----------+-------+--------------------+------------+----------+---------------+\n",
      "| 55000000|   795|tt0120632|    21.145|  1998-04-10| 198685114|    114|      City of Angels|         6.8|      2022|     2024-03-27|\n",
      "|  8000000|  9507|tt0088024|      9.81|  1984-12-14|   6770587|    100|             Runaway|         5.5|       226|     2024-03-27|\n",
      "|  2020000| 30145|tt0151572|      6.83|  1998-12-18|   4374994|    104|The Miracle of P....|         6.7|        98|     2024-03-27|\n",
      "|300000000|299536|tt4154756|   193.962|  2018-04-25|2052415039|    149|Avengers: Infinit...|         8.2|     28661|     2024-03-27|\n",
      "| 30000000|  1450|tt0806027|    15.018|  2009-04-02|   5874530|     91|Blood: The Last V...|         5.7|       327|     2024-03-27|\n",
      "|200000000|   296|tt0181852|    84.467|  2003-07-02| 435000000|    109|Terminator 3: Ris...|         6.2|      6320|     2024-03-27|\n",
      "| 12000000| 31909|tt0091276|    14.859|  1986-06-06|   4884663|    100|  Invaders from Mars|         5.5|       227|     2024-03-27|\n",
      "| 60000000| 58244|tt1374992|    16.044|  2012-09-27|  22187813|    104|         Upside Down|         6.3|      2402|     2024-03-27|\n",
      "|140000000|  1771|tt0458339|    56.862|  2011-07-22| 370569774|    124|Captain America: ...|         7.0|     20789|     2024-03-27|\n",
      "| 60000000|   201|tt0253754|    20.937|  2002-12-13|  67312826|    116|  Star Trek: Nemesis|         6.3|      1337|     2024-03-27|\n",
      "|  4000000|  9300|tt0107756|    10.641|  1992-12-11|   5377643|     90|             Orlando|         6.9|       295|     2024-03-27|\n",
      "|  2000000| 28148|tt0087805|     8.869|  1984-09-14|   7610785|     92|Ninja III: The Do...|         6.1|       114|     2024-03-27|\n",
      "| 32000000|109414|tt1245492|    38.502|  2013-06-12| 126041322|    106|     This Is the End|         6.2|      6111|     2024-03-27|\n",
      "|  5000000| 19051|tt0093744|      8.93|  1988-07-06|   3569939|    100|The New Adventure...|         5.7|        71|     2024-03-27|\n",
      "| 12000000| 11559|tt0410764|    13.597|  2005-09-09|    566611|    120|            Tideland|         6.5|       525|     2024-03-27|\n",
      "| 30000000|  7916|tt0400426|     7.385|  2008-10-02|       743|     95|             Far Cry|         3.7|       277|     2024-03-27|\n",
      "| 68000000|  9824|tt0132347|    18.758|  1999-08-06|  29762011|    121|         Mystery Men|         5.8|       781|     2024-03-27|\n",
      "|  5250000| 10496|tt0200469|    11.582|  1999-10-22|  10200000|     91|                Bats|         4.4|       179|     2024-03-27|\n",
      "|   750000|  8327|tt0071615|     16.39|  1973-11-29|     96262|    114|   The Holy Mountain|         7.6|       846|     2024-03-27|\n",
      "| 36000000|   782|tt0119177|    26.847|  1997-09-07|  12532777|    106|             Gattaca|         7.6|      6023|     2024-03-27|\n",
      "+---------+------+---------+----------+------------+----------+-------+--------------------+------------+----------+---------------+\n",
      "only showing top 20 rows\n",
      "\n",
      "root\n",
      " |-- budget: long (nullable = true)\n",
      " |-- id: long (nullable = true)\n",
      " |-- imdb_id: string (nullable = true)\n",
      " |-- popularity: double (nullable = true)\n",
      " |-- release_date: date (nullable = true)\n",
      " |-- revenue: long (nullable = true)\n",
      " |-- runtime: long (nullable = true)\n",
      " |-- title: string (nullable = true)\n",
      " |-- vote_average: double (nullable = true)\n",
      " |-- vote_count: long (nullable = true)\n",
      " |-- extraction_date: date (nullable = false)\n",
      "\n"
     ]
    }
   ],
   "source": [
    "df_novo.show()\n",
    "df_novo.printSchema()"
   ]
  },
  {
   "cell_type": "code",
   "execution_count": 11,
   "id": "b87efe31-c0e3-4807-91a1-44877f675ff8",
   "metadata": {},
   "outputs": [
    {
     "name": "stdout",
     "output_type": "stream",
     "text": [
      "+-------+-------------------+------------------+---------+------------------+--------------------+------------------+--------------------+------------------+------------------+\n",
      "|summary|             budget|                id|  imdb_id|        popularity|             revenue|           runtime|               title|      vote_average|        vote_count|\n",
      "+-------+-------------------+------------------+---------+------------------+--------------------+------------------+--------------------+------------------+------------------+\n",
      "|  count|               1316|              1316|     1316|              1316|                1316|              1316|                1316|              1316|              1316|\n",
      "|   mean|  4.5621839943769E7|105134.17021276595|     NULL| 30.12173100303951|1.3586896763677812E8| 107.8966565349544|              1495.6| 6.278130699088145|3289.6838905775076|\n",
      "| stddev|5.851431836267711E7| 172668.5242147341|     NULL|33.069584051749466|2.6194405985221502E8|18.405982357140616|   876.4603813065369|0.8764917866735996| 4859.204776237907|\n",
      "|    min|                  5|                11|tt0006333|             1.113|                   1|                66|(T)Raumschiff Sur...|               2.6|                31|\n",
      "|    max|          379000000|            951546|tt9844322|           696.014|          2923706026|               189|            Æon Flux|             8.507|             35449|\n",
      "+-------+-------------------+------------------+---------+------------------+--------------------+------------------+--------------------+------------------+------------------+\n",
      "\n"
     ]
    }
   ],
   "source": [
    "df_novo.describe().show()"
   ]
  }
 ],
 "metadata": {
  "kernelspec": {
   "display_name": "Python 3 (ipykernel)",
   "language": "python",
   "name": "python3"
  },
  "language_info": {
   "codemirror_mode": {
    "name": "ipython",
    "version": 3
   },
   "file_extension": ".py",
   "mimetype": "text/x-python",
   "name": "python",
   "nbconvert_exporter": "python",
   "pygments_lexer": "ipython3",
   "version": "3.11.6"
  }
 },
 "nbformat": 4,
 "nbformat_minor": 5
}
