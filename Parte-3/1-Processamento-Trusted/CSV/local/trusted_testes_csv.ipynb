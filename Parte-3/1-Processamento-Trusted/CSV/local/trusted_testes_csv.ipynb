{
 "cells": [
  {
   "cell_type": "code",
   "execution_count": 1,
   "id": "75af7f45-376f-42a1-a6d7-a440326647f8",
   "metadata": {},
   "outputs": [],
   "source": [
    "from pyspark.sql import SparkSession, functions as F\n",
    "from datetime import datetime\n",
    "\n",
    "spark = SparkSession \\\n",
    "    .builder \\\n",
    "    .master(\"local[*]\")\\\n",
    "    .appName(\"Exercicio Intro\") \\\n",
    "    .getOrCreate()"
   ]
  },
  {
   "cell_type": "code",
   "execution_count": 2,
   "id": "59f18230-f687-4101-8891-099615cfef60",
   "metadata": {},
   "outputs": [
    {
     "name": "stdout",
     "output_type": "stream",
     "text": [
      "root\n",
      " |-- id: string (nullable = true)\n",
      " |-- tituloPincipal: string (nullable = true)\n",
      " |-- tituloOriginal: string (nullable = true)\n",
      " |-- anoLancamento: integer (nullable = true)\n",
      " |-- tempoMinutos: integer (nullable = true)\n",
      " |-- genero: string (nullable = true)\n",
      " |-- notaMedia: double (nullable = true)\n",
      " |-- numeroVotos: integer (nullable = true)\n",
      " |-- generoArtista: string (nullable = true)\n",
      " |-- personagem: string (nullable = true)\n",
      " |-- nomeArtista: string (nullable = true)\n",
      " |-- anoNascimento: integer (nullable = true)\n",
      " |-- anoFalecimento: integer (nullable = true)\n",
      " |-- profissao: string (nullable = true)\n",
      " |-- titulosMaisConhecidos: string (nullable = true)\n",
      "\n",
      "+---------+--------------+--------------+-------------+------------+-------+---------+-----------+-------------+--------------------+-----------------+-------------+--------------+------------+---------------------+\n",
      "|       id|tituloPincipal|tituloOriginal|anoLancamento|tempoMinutos| genero|notaMedia|numeroVotos|generoArtista|          personagem|      nomeArtista|anoNascimento|anoFalecimento|   profissao|titulosMaisConhecidos|\n",
      "+---------+--------------+--------------+-------------+------------+-------+---------+-----------+-------------+--------------------+-----------------+-------------+--------------+------------+---------------------+\n",
      "|tt0000009|    Miss Jerry|    Miss Jerry|         1894|          45|Romance|      5.3|        200|      actress|Miss Geraldine Ho...|  Blanche Bayliss|         1878|          1951|     actress|            tt0000009|\n",
      "|tt0000009|    Miss Jerry|    Miss Jerry|         1894|          45|Romance|      5.3|        200|        actor|        Mr. Hamilton|William Courtenay|         1875|          1933|       actor| tt0021535,tt00000...|\n",
      "|tt0000009|    Miss Jerry|    Miss Jerry|         1894|          45|Romance|      5.3|        200|        actor|Chauncey Depew - ...|   Chauncey Depew|         1834|          1928|actor,writer| tt1076833,tt04908...|\n",
      "|tt0000502|      Bohemios|      Bohemios|         1905|         100|     \\N|      4.2|         14|        actor|                  \\N| Antonio del Pozo|         NULL|          NULL|       actor|            tt0000502|\n",
      "|tt0000502|      Bohemios|      Bohemios|         1905|         100|     \\N|      4.2|         14|        actor|                  \\N|      El Mochuelo|         NULL|          NULL|       actor|            tt0000502|\n",
      "+---------+--------------+--------------+-------------+------------+-------+---------+-----------+-------------+--------------------+-----------------+-------------+--------------+------------+---------------------+\n",
      "only showing top 5 rows\n",
      "\n",
      "1045161\n"
     ]
    }
   ],
   "source": [
    "schema = \"\"\"id STRING, \n",
    "            tituloPincipal STRING, \n",
    "            tituloOriginal STRING, \n",
    "            anoLancamento INT,\n",
    "            tempoMinutos INT,\n",
    "            genero STRING,\n",
    "            notaMedia DOUBLE,\n",
    "            numeroVotos INT,\n",
    "            generoArtista STRING,\n",
    "            personagem STRING,\n",
    "            nomeArtista STRING,\n",
    "            anoNascimento INT,\n",
    "            anoFalecimento INT,\n",
    "            profissao STRING,\n",
    "            titulosMaisConhecidos STRING\n",
    "            \"\"\"\n",
    "df = spark.read.option(\"encoding\", \"UTF-8\").csv('work', schema=schema, sep=\"|\", header=True)\n",
    "df.printSchema()\n",
    "df.show(5)\n",
    "print(df.count())  # 1045161 registros"
   ]
  },
  {
   "cell_type": "code",
   "execution_count": 3,
   "id": "03b41f5e-3dbd-437f-8d22-6e1c6e660d2b",
   "metadata": {},
   "outputs": [
    {
     "name": "stdout",
     "output_type": "stream",
     "text": [
      "root\n",
      " |-- id: string (nullable = true)\n",
      " |-- tituloPrincipal: string (nullable = true)\n",
      " |-- tituloOriginal: string (nullable = true)\n",
      " |-- anoLancamento: integer (nullable = true)\n",
      " |-- tempoMinutos: integer (nullable = true)\n",
      " |-- genero: string (nullable = true)\n",
      " |-- notaMedia: double (nullable = true)\n",
      " |-- numeroVotos: integer (nullable = true)\n",
      " |-- personagem: string (nullable = true)\n",
      " |-- nomeArtista: string (nullable = true)\n",
      "\n",
      "61569\n",
      "14303\n"
     ]
    }
   ],
   "source": [
    "# Drop de colunas indesejadas\n",
    "colunas_indesejadas = ['generoArtista', 'anoNascimento',\n",
    "                       'anoFalecimento', 'profissao', 'titulosMaisConhecidos']\n",
    "df = df.drop(*colunas_indesejadas)\n",
    "\n",
    "# Filtrando os gêneros desejados e renomeando a coluna com nome errado\n",
    "df = df.withColumnRenamed('tituloPincipal', 'tituloPrincipal')\n",
    "df = df.filter(F.col('genero').like('%Sci-Fi%') |\n",
    "               F.col('genero').like('%Fantasy%'))\n",
    "df.printSchema()\n",
    "print(df.count())  # 61569 registros\n",
    "print(df.select('id').distinct().count())  # Num de IDs distintos = 14303"
   ]
  },
  {
   "cell_type": "code",
   "execution_count": 4,
   "id": "ce5ee5c5-5ae5-460e-ac7e-7bc706a13282",
   "metadata": {},
   "outputs": [
    {
     "name": "stdout",
     "output_type": "stream",
     "text": [
      "+---------+--------------------+--------------------+-------------+------------+--------------------+---------+-----------+--------------------+-------------------+\n",
      "|       id|     tituloPrincipal|      tituloOriginal|anoLancamento|tempoMinutos|              genero|notaMedia|numeroVotos|          personagem|        nomeArtista|\n",
      "+---------+--------------------+--------------------+-------------+------------+--------------------+---------+-----------+--------------------+-------------------+\n",
      "|tt0000679|The Fairylogue an...|The Fairylogue an...|         1908|         120|   Adventure,Fantasy|      5.2|         66|The Wizard of Oz Man|      L. Frank Baum|\n",
      "|tt0000679|The Fairylogue an...|The Fairylogue an...|         1908|         120|   Adventure,Fantasy|      5.2|         66|Nick Chopper - Ti...|   George E. Wilson|\n",
      "|tt0000679|The Fairylogue an...|The Fairylogue an...|         1908|         120|   Adventure,Fantasy|      5.2|         66|His Majesty the S...|        Frank Burns|\n",
      "|tt0000679|The Fairylogue an...|The Fairylogue an...|         1908|         120|   Adventure,Fantasy|      5.2|         66|Tik-Tok - the Mac...|  Wallace Illington|\n",
      "|tt0002130|     Dante's Inferno|           L'Inferno|         1911|          71|Adventure,Drama,F...|      7.0|       2993|Farinata degli Ub...|Giuseppe de Liguoro|\n",
      "|tt0002130|     Dante's Inferno|           L'Inferno|         1911|          71|Adventure,Drama,F...|      7.0|       2993|    Il conte Ugolino|   Pier Delle Vigne|\n",
      "|tt0002130|     Dante's Inferno|           L'Inferno|         1911|          71|Adventure,Drama,F...|      7.0|       2993|            Virgilio|    Arturo Pirovano|\n",
      "|tt0002130|     Dante's Inferno|           L'Inferno|         1911|          71|Adventure,Drama,F...|      7.0|       2993|     Dante Alighieri|     Salvatore Papa|\n",
      "|tt0003015|Die Insel der Sel...|Die Insel der Sel...|         1913|          49|      Comedy,Fantasy|      4.7|         63|                  \\N|     Arthur Kathane|\n",
      "|tt0003015|Die Insel der Sel...|Die Insel der Sel...|         1913|          49|      Comedy,Fantasy|      4.7|         63|                  \\N|      Paul Davidson|\n",
      "|tt0003015|Die Insel der Sel...|Die Insel der Sel...|         1913|          49|      Comedy,Fantasy|      4.7|         63|                Amor|   Erika De Planque|\n",
      "|tt0003015|Die Insel der Sel...|Die Insel der Sel...|         1913|          49|      Comedy,Fantasy|      4.7|         63|            Galathea|      Mary Dietrich|\n",
      "|tt0003015|Die Insel der Sel...|Die Insel der Sel...|         1913|          49|      Comedy,Fantasy|      4.7|         63|   Munteres Maedchen| Gertrud Hackelberg|\n",
      "|tt0003015|Die Insel der Sel...|Die Insel der Sel...|         1913|          49|      Comedy,Fantasy|      4.7|         63|Gutmuetige VaterM...| Wilhelm Diegelmann|\n",
      "|tt0003015|Die Insel der Sel...|Die Insel der Sel...|         1913|          49|      Comedy,Fantasy|      4.7|         63|Vertraeumter Juen...|      Ernst Hofmann|\n",
      "|tt0003419|The Student of Pr...|Der Student von Prag|         1913|          85|Drama,Fantasy,Horror|      6.4|       2171|   Balduin a Student|       Paul Wegener|\n",
      "|tt0003419|The Student of Pr...|Der Student von Prag|         1913|          85|Drama,Fantasy,Horror|      6.4|       2171|Countess Margit v...|       Grete Berger|\n",
      "|tt0003419|The Student of Pr...|Der Student von Prag|         1913|          85|Drama,Fantasy,Horror|      6.4|       2171|Scapinelli an Old...|       John Gottowt|\n",
      "|tt0003419|The Student of Pr...|Der Student von Prag|         1913|          85|Drama,Fantasy,Horror|      6.4|       2171|Lyduschka a Gypsy...|     Lyda Salmonova|\n",
      "|tt0003772|          Cinderella|          Cinderella|         1914|          52|       Drama,Fantasy|      6.1|       1037|          Stepmother|      Isabel Vernon|\n",
      "+---------+--------------------+--------------------+-------------+------------+--------------------+---------+-----------+--------------------+-------------------+\n",
      "only showing top 20 rows\n",
      "\n",
      "57520\n"
     ]
    }
   ],
   "source": [
    "# Eliminando registros duplicados e dados incompletos\n",
    "df_novo = df.dropDuplicates()\n",
    "df_novo = df_novo.dropna()\n",
    "df.show()\n",
    "print(df_novo.count())  # 57520"
   ]
  },
  {
   "cell_type": "code",
   "execution_count": 5,
   "id": "fc44a6a3-3be2-4b5f-8e49-98efff0b5b42",
   "metadata": {},
   "outputs": [],
   "source": [
    "# Substituindo '\\N' por valores nulos na coluna 'personagem'\n",
    "# Esses valores não atrapalham a analise então não serão deletados\n",
    "df_novo = df_novo.withColumn(\n",
    "    'personagem', F.when(F.col('personagem') == '\\\\N', None)\n",
    "    .otherwise(F.col('personagem')))\n",
    "\n",
    "# Amostra de votos menor que 30 é considerada irrelevante (TCL)\n",
    "df_novo = df_novo.filter(F.col(\"numeroVotos\") >= 30)"
   ]
  },
  {
   "cell_type": "code",
   "execution_count": 6,
   "id": "1314e734-d8a4-4b58-a3d4-e1b1ca1fc4b2",
   "metadata": {},
   "outputs": [
    {
     "name": "stdout",
     "output_type": "stream",
     "text": [
      "11081\n",
      "11081\n"
     ]
    }
   ],
   "source": [
    "# Verificando que não há inconsistências nos dados dos filmes\n",
    "ids_distintos = df_novo.select('id').distinct().count()\n",
    "print(ids_distintos)  # Resultado: 11081\n",
    "ids_distintos = df_novo.select('id', 'tituloPrincipal', 'tituloOriginal',\n",
    "                               'anoLancamento', 'tempoMinutos', 'genero',\n",
    "                               'notaMedia', 'numeroVotos').distinct().count()\n",
    "print(ids_distintos)  # Resultado: 11081"
   ]
  },
  {
   "cell_type": "code",
   "execution_count": 7,
   "id": "9c0ba666-3556-4acc-8690-25f83c098297",
   "metadata": {},
   "outputs": [
    {
     "name": "stdout",
     "output_type": "stream",
     "text": [
      "+---------+--------------------+--------------------+-------------+------------+--------------------+---------+-----------+--------------------+-------------------+\n",
      "|       id|     tituloPrincipal|      tituloOriginal|anoLancamento|tempoMinutos|              genero|notaMedia|numeroVotos|          personagem|        nomeArtista|\n",
      "+---------+--------------------+--------------------+-------------+------------+--------------------+---------+-----------+--------------------+-------------------+\n",
      "|tt0000679|The Fairylogue an...|The Fairylogue an...|         1908|         120|   Adventure,Fantasy|      5.2|         66|Tik-Tok - the Mac...|  Wallace Illington|\n",
      "|tt0000679|The Fairylogue an...|The Fairylogue an...|         1908|         120|   Adventure,Fantasy|      5.2|         66|His Majesty the S...|        Frank Burns|\n",
      "|tt0000679|The Fairylogue an...|The Fairylogue an...|         1908|         120|   Adventure,Fantasy|      5.2|         66|The Wizard of Oz Man|      L. Frank Baum|\n",
      "|tt0000679|The Fairylogue an...|The Fairylogue an...|         1908|         120|   Adventure,Fantasy|      5.2|         66|Nick Chopper - Ti...|   George E. Wilson|\n",
      "|tt0002130|     Dante's Inferno|           L'Inferno|         1911|          71|Adventure,Drama,F...|      7.0|       2993|Farinata degli Ub...|Giuseppe de Liguoro|\n",
      "|tt0002130|     Dante's Inferno|           L'Inferno|         1911|          71|Adventure,Drama,F...|      7.0|       2993|            Virgilio|    Arturo Pirovano|\n",
      "|tt0002130|     Dante's Inferno|           L'Inferno|         1911|          71|Adventure,Drama,F...|      7.0|       2993|    Il conte Ugolino|   Pier Delle Vigne|\n",
      "|tt0002130|     Dante's Inferno|           L'Inferno|         1911|          71|Adventure,Drama,F...|      7.0|       2993|     Dante Alighieri|     Salvatore Papa|\n",
      "|tt0003015|Die Insel der Sel...|Die Insel der Sel...|         1913|          49|      Comedy,Fantasy|      4.7|         63|                NULL|     Arthur Kathane|\n",
      "|tt0003015|Die Insel der Sel...|Die Insel der Sel...|         1913|          49|      Comedy,Fantasy|      4.7|         63|Gutmuetige VaterM...| Wilhelm Diegelmann|\n",
      "|tt0003015|Die Insel der Sel...|Die Insel der Sel...|         1913|          49|      Comedy,Fantasy|      4.7|         63|            Galathea|      Mary Dietrich|\n",
      "|tt0003015|Die Insel der Sel...|Die Insel der Sel...|         1913|          49|      Comedy,Fantasy|      4.7|         63|Vertraeumter Juen...|      Ernst Hofmann|\n",
      "|tt0003015|Die Insel der Sel...|Die Insel der Sel...|         1913|          49|      Comedy,Fantasy|      4.7|         63|   Munteres Maedchen| Gertrud Hackelberg|\n",
      "|tt0003015|Die Insel der Sel...|Die Insel der Sel...|         1913|          49|      Comedy,Fantasy|      4.7|         63|                NULL|      Paul Davidson|\n",
      "|tt0003015|Die Insel der Sel...|Die Insel der Sel...|         1913|          49|      Comedy,Fantasy|      4.7|         63|                Amor|   Erika De Planque|\n",
      "|tt0003419|The Student of Pr...|Der Student von Prag|         1913|          85|Drama,Fantasy,Horror|      6.4|       2171|Lyduschka a Gypsy...|     Lyda Salmonova|\n",
      "|tt0003419|The Student of Pr...|Der Student von Prag|         1913|          85|Drama,Fantasy,Horror|      6.4|       2171|Countess Margit v...|       Grete Berger|\n",
      "|tt0003419|The Student of Pr...|Der Student von Prag|         1913|          85|Drama,Fantasy,Horror|      6.4|       2171|   Balduin a Student|       Paul Wegener|\n",
      "|tt0003419|The Student of Pr...|Der Student von Prag|         1913|          85|Drama,Fantasy,Horror|      6.4|       2171|Scapinelli an Old...|       John Gottowt|\n",
      "|tt0003772|          Cinderella|          Cinderella|         1914|          52|       Drama,Fantasy|      6.1|       1037|          Stepsister|     Lucille Carney|\n",
      "+---------+--------------------+--------------------+-------------+------------+--------------------+---------+-----------+--------------------+-------------------+\n",
      "only showing top 20 rows\n",
      "\n"
     ]
    }
   ],
   "source": [
    "df_novo.orderBy('id').show()"
   ]
  },
  {
   "cell_type": "code",
   "execution_count": 8,
   "id": "fdfa378d-c3d8-4156-9837-9de3b9392251",
   "metadata": {},
   "outputs": [
    {
     "name": "stdout",
     "output_type": "stream",
     "text": [
      "46835\n",
      "root\n",
      " |-- id: string (nullable = true)\n",
      " |-- tituloPrincipal: string (nullable = true)\n",
      " |-- tituloOriginal: string (nullable = true)\n",
      " |-- anoLancamento: integer (nullable = true)\n",
      " |-- tempoMinutos: integer (nullable = true)\n",
      " |-- genero: string (nullable = true)\n",
      " |-- notaMedia: double (nullable = true)\n",
      " |-- numeroVotos: integer (nullable = true)\n",
      " |-- personagem: string (nullable = true)\n",
      " |-- nomeArtista: string (nullable = true)\n",
      "\n",
      "+-------+---------+---------------+--------------+-----------------+-----------------+--------------------+------------------+------------------+--------------------+--------------------+\n",
      "|summary|       id|tituloPrincipal|tituloOriginal|    anoLancamento|     tempoMinutos|              genero|         notaMedia|       numeroVotos|          personagem|         nomeArtista|\n",
      "+-------+---------+---------------+--------------+-----------------+-----------------+--------------------+------------------+------------------+--------------------+--------------------+\n",
      "|  count|    46835|          46835|         46835|            46835|            46835|               46835|             46835|             46835|               44006|               46835|\n",
      "|   mean|     NULL|       Infinity|      Infinity| 1997.50009608199|95.36094800896765|                NULL| 5.474929006085196|18815.862367887265|                 NaN|                NULL|\n",
      "| stddev|     NULL|            NaN|           NaN|22.11618334656788|24.40096735543913|                NULL|1.3912961096830745| 91909.96334551008|                 NaN|                NULL|\n",
      "|    min|tt0000679|          $9.99|         $9.99|             1908|               28|Action,Adventure,...|               1.1|                30|               #3774|'Baby' Carmen De Rue|\n",
      "|    max|tt9907782|       Órbita 9|    Üçüncü Göz|             2022|              999|      Sci-Fi,Western|               9.9|           2339961|údrzbár Frantisek...|          Ünsal Emre|\n",
      "+-------+---------+---------------+--------------+-----------------+-----------------+--------------------+------------------+------------------+--------------------+--------------------+\n",
      "\n",
      "+---------+--------------------+--------------------+-------------+------------+--------------------+---------+-----------+--------------------+--------------------+\n",
      "|       id|     tituloPrincipal|      tituloOriginal|anoLancamento|tempoMinutos|              genero|notaMedia|numeroVotos|          personagem|         nomeArtista|\n",
      "+---------+--------------------+--------------------+-------------+------------+--------------------+---------+-----------+--------------------+--------------------+\n",
      "|tt0015175|Die Nibelungen: S...|Die Nibelungen: S...|         1924|         143|Adventure,Drama,F...|      8.1|       6008|           Kriemhild|     Margarete Schön|\n",
      "|tt0016237|       The Power God|       The Power God|         1925|         300|Action,Adventure,...|      6.1|         53|         Weston Dore|    Al Ernest Garcia|\n",
      "|tt0026983|                 She|                 She|         1935|         101|Adventure,Fantasy...|      6.4|       1751|        Horace Holly|         Nigel Bruce|\n",
      "|tt0027338|   The Macabre Trunk|     El baúl macabro|         1936|          79|Horror,Mystery,Sc...|      5.7|         49|Dr. Armando del V...|        René Cardona|\n",
      "|tt0029201|The Man Who Could...|The Man Who Could...|         1936|          82|Comedy,Family,Fan...|      7.0|       1457|  Colonel Winstanley|    Ralph Richardson|\n",
      "|tt0035703|    Cabin in the Sky|    Cabin in the Sky|         1943|          98|Comedy,Drama,Fantasy|      7.1|       3102|       Georgia Brown|          Lena Horne|\n",
      "|tt0015224|           Peter Pan|           Peter Pan|         1924|         105|Adventure,Family,...|      7.1|       1105|        Nana the Dog|          George Ali|\n",
      "|tt0006333|20,000 Leagues Un...|20,000 Leagues Un...|         1916|          85|Action,Adventure,...|      6.1|       1835|       Prof. Aronnax|          Dan Hanlon|\n",
      "|tt0010203|       The Halfbreed|            Halbblut|         1919|          60|             Fantasy|      7.2|         78|                NULL|Carl Gerhard Schr...|\n",
      "|tt0014577| Der verlorene Schuh| Der verlorene Schuh|         1923|          50|             Fantasy|      6.3|         44|        Anselm Franz|       Paul Hartmann|\n",
      "|tt0021814|             Dracula|             Dracula|         1931|          75|Drama,Fantasy,Horror|      7.4|      53792|                Mina|      Helen Chandler|\n",
      "|tt0026970|       The Scoundrel|       The Scoundrel|         1935|          76|       Drama,Fantasy|      6.2|        382|          Cora Moore|        Julie Haydon|\n",
      "|tt0029162|        Lost Horizon|        Lost Horizon|         1937|         132|Adventure,Drama,F...|      7.6|      13433|       George Conway|         John Howard|\n",
      "|tt0030092|          The Dybbuk|           Der Dibuk|         1937|         108|Drama,Fantasy,Mus...|      6.5|        666|Meszulach - the m...|       Ajzyk Samberg|\n",
      "|tt0025084|    End of the World|    End of the World|         1931|         105|              Sci-Fi|      5.3|         82|               Extra|          Abel Gance|\n",
      "|tt0032637| The Invisible Woman| The Invisible Woman|         1940|          72|Comedy,Romance,Sc...|      6.0|       3005|       Kitty Carroll|      Virginia Bruce|\n",
      "|tt0010969|    Missing Husbands|         L'Atlantide|         1921|         172|Adventure,Fantasy...|      6.7|        399|   Lt. de Saint-Avit|    Georges Melchior|\n",
      "|tt0013688| The Toll of the Sea| The Toll of the Sea|         1922|          54|Drama,Family,Fantasy|      6.6|        834|        Allen Carver|      Kenneth Harlan|\n",
      "|tt0015053|  Laughing at Danger|  Laughing at Danger|         1924|          60|Action,Comedy,Sci-Fi|      6.1|         43|      Darwin Kershaw| Stanhope Wheatcroft|\n",
      "|tt0017033|A Kiss for Cinder...|A Kiss for Cinder...|         1925|         105|Drama,Family,Fantasy|      6.9|        100|   Cinderella (Jane)|       Betty Bronson|\n",
      "+---------+--------------------+--------------------+-------------+------------+--------------------+---------+-----------+--------------------+--------------------+\n",
      "only showing top 20 rows\n",
      "\n"
     ]
    }
   ],
   "source": [
    "# Ultima checagagem dos dados\n",
    "print(df_novo.count()) # 46835\n",
    "df_novo.printSchema()\n",
    "df_novo.describe().show()\n",
    "df_novo.show()"
   ]
  },
  {
   "cell_type": "code",
   "execution_count": 9,
   "id": "9e6058bf-2ac8-4ae9-bd9d-0493e1b9ec3f",
   "metadata": {},
   "outputs": [
    {
     "name": "stdout",
     "output_type": "stream",
     "text": [
      "+--------------------+-----+\n",
      "|         nomeArtista|count|\n",
      "+--------------------+-----+\n",
      "|     Lance Henriksen|   28|\n",
      "|      John Carradine|   28|\n",
      "|       Germán Valdés|   22|\n",
      "|     Christopher Lee|   21|\n",
      "|       Boris Karloff|   20|\n",
      "|        Tom Sizemore|   19|\n",
      "|        Nicolas Cage|   19|\n",
      "|       Peter Cushing|   19|\n",
      "|        Eric Roberts|   19|\n",
      "|        David Warner|   18|\n",
      "|      Lon Chaney Jr.|   17|\n",
      "|Arnold Schwarzene...|   17|\n",
      "|      Tadanobu Asano|   16|\n",
      "|   Samuel L. Jackson|   16|\n",
      "| Christopher Lambert|   16|\n",
      "|    Malcolm McDowell|   16|\n",
      "| Tony Chiu-Wai Leung|   15|\n",
      "|    Michael Ironside|   15|\n",
      "|         Johnny Depp|   15|\n",
      "|        Keanu Reeves|   14|\n",
      "+--------------------+-----+\n",
      "only showing top 20 rows\n",
      "\n"
     ]
    }
   ],
   "source": [
    "teste = df_novo.groupBy('nomeArtista').count().orderBy(F.col('count').desc())\n",
    "teste.show()"
   ]
  },
  {
   "cell_type": "code",
   "execution_count": 10,
   "id": "cf481f99-a90e-463d-a0b6-d8b037b2c2e6",
   "metadata": {},
   "outputs": [
    {
     "name": "stdout",
     "output_type": "stream",
     "text": [
      "+-----------------+-----+\n",
      "|      nomeArtista|count|\n",
      "+-----------------+-----+\n",
      "|Robert Downey Jr.|   11|\n",
      "|    Thomas Downey|    3|\n",
      "|Robert Downey Sr.|    1|\n",
      "|    Javier Downey|    1|\n",
      "+-----------------+-----+\n",
      "\n"
     ]
    }
   ],
   "source": [
    "teste.filter(F.col('nomeArtista').like('%Downey%')).show()"
   ]
  }
 ],
 "metadata": {
  "kernelspec": {
   "display_name": "Python 3 (ipykernel)",
   "language": "python",
   "name": "python3"
  },
  "language_info": {
   "codemirror_mode": {
    "name": "ipython",
    "version": 3
   },
   "file_extension": ".py",
   "mimetype": "text/x-python",
   "name": "python",
   "nbconvert_exporter": "python",
   "pygments_lexer": "ipython3",
   "version": "3.11.6"
  }
 },
 "nbformat": 4,
 "nbformat_minor": 5
}
