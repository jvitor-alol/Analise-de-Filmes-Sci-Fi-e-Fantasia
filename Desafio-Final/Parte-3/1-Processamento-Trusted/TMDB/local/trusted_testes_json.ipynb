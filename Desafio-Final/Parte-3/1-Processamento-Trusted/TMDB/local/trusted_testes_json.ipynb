{
 "cells": [
  {
   "cell_type": "code",
   "execution_count": 1,
   "id": "5d27ce4d-14d5-4778-85da-d18a0c80cbd4",
   "metadata": {},
   "outputs": [],
   "source": [
    "from pyspark.sql import SparkSession, functions as F\n",
    "from datetime import datetime"
   ]
  },
  {
   "cell_type": "code",
   "execution_count": 2,
   "id": "e6d09502-e827-44b0-8672-0f7d0daa51ac",
   "metadata": {},
   "outputs": [],
   "source": [
    "spark = SparkSession \\\n",
    "    .builder \\\n",
    "    .master(\"local[*]\")\\\n",
    "    .appName(\"Exercicio Intro\") \\\n",
    "    .getOrCreate()"
   ]
  },
  {
   "cell_type": "code",
   "execution_count": 3,
   "id": "836e139b-b9f7-40a1-a75f-9e66d716ea8b",
   "metadata": {},
   "outputs": [
    {
     "name": "stdout",
     "output_type": "stream",
     "text": [
      "+--------+--------------------+-------+----------+----------+------------+-------+-------+--------------------+------------+----------+\n",
      "|  budget|              genres|     id|   imdb_id|popularity|release_date|revenue|runtime|               title|vote_average|vote_count|\n",
      "+--------+--------------------+-------+----------+----------+------------+-------+-------+--------------------+------------+----------+\n",
      "|       0|[{35, Comedy}, {1...|  82720| tt0268042|     1.068|  1994-04-24|      0|    150|           Yamaleela|         7.6|         5|\n",
      "|       0|[{12, Adventure},...|  29813| tt0297149|     2.638|  1974-05-15|      0|     87|      Les gloutonnes|         2.7|         3|\n",
      "|       0|[{18, Drama}, {87...| 112044| tt1202515|       0.6|  2008-09-19|      0|     90|            Atlantis|         6.0|         1|\n",
      "|       0|       [{18, Drama}]| 696567| tt0875003|      0.87|  1993-01-01|      0|     82|    Day of the Angel|         6.0|         1|\n",
      "|       0|[{14, Fantasy}, {...|  53004| tt0926151|     2.512|  2006-11-30| 291243|     85| Legend of Sudsakorn|         3.7|         3|\n",
      "|       0|[{28, Action}, {8...| 357917|tt10378618|     3.366|  1985-09-03|      0|     72|Orochi Strikes Again|         0.0|         0|\n",
      "|       0|[{28, Action}, {1...| 759175|tt13406136|    34.639|  2022-06-16|      0|     94|        The Princess|         6.8|       742|\n",
      "|       0|[{27, Horror}, {8...| 334894| tt2848252|      1.64|  2014-10-01|      0|     90|      Nightmare Code|         4.4|        15|\n",
      "|       0|   [{16, Animation}]|  55880| tt4387006|     1.831|  2007-06-23|      0|     80|Kiddy Grade II: M...|         7.3|         3|\n",
      "|       0|      [{35, Comedy}]| 451522| tt0397536|       0.6|  1990-10-04|      0|     81|     The Miles Ahead|         0.0|         0|\n",
      "|       0|[{878, Science Fi...| 621338| tt8619974|       0.6|  2016-07-21|      0|     72|      The Way Home 2|         0.0|         0|\n",
      "|       0|[{14, Fantasy}, {...| 261605| tt0172713|     2.458|  1957-08-09|      0|     82|      Legend of Love|         0.0|         0|\n",
      "|       0|[{28, Action}, {8...|  27010| tt0112519|     4.825|  1995-08-22|      0|     92|      Black Scorpion|         5.9|        19|\n",
      "|       0|   [{10751, Family}]| 278823| tt0176283|       0.6|  1989-07-02|      0|     71| Blessed Misfortune!|         0.0|         0|\n",
      "|   15000|[{35, Comedy}, {8...| 301647| tt3562846|     0.686|  2013-03-21|      0|     53|           Proll Out|         4.7|         6|\n",
      "|       0|[{10770, TV Movie...|  89858| tt0077877|     2.655|  1978-01-01|      0|     91| The Lucifer Complex|         2.6|        14|\n",
      "|       0|[{878, Science Fi...|1012471|tt21160260|      0.77|  2022-07-16|      0|    100|Rainbow Sea Fly High|         4.7|         3|\n",
      "|       0|[{27, Horror}, {1...| 303501| tt0100610|     1.541|  1990-07-19| 435191|     91|The Revenge of Angel|         6.0|         1|\n",
      "|15500000|[{35, Comedy}, {1...|  37725| tt0482527|    15.396|  2006-07-15|7385434|     95|It's a Boy Girl T...|         6.5|       997|\n",
      "|       0|[{878, Science Fi...| 934194| tt9050310|   101.097|  2022-06-24|  15511|     87|          Slash/Back|         6.5|        64|\n",
      "+--------+--------------------+-------+----------+----------+------------+-------+-------+--------------------+------------+----------+\n",
      "only showing top 20 rows\n",
      "\n"
     ]
    }
   ],
   "source": [
    "df = spark.read.option(\"encoding\", \"UTF-8\").json(\"tmdb_movies\")\n",
    "df.show()"
   ]
  },
  {
   "cell_type": "code",
   "execution_count": 4,
   "id": "5dd5778e-0c47-4044-b179-1558dc0353f1",
   "metadata": {},
   "outputs": [
    {
     "name": "stdout",
     "output_type": "stream",
     "text": [
      "root\n",
      " |-- budget: long (nullable = true)\n",
      " |-- genres: array (nullable = true)\n",
      " |    |-- element: struct (containsNull = true)\n",
      " |    |    |-- id: long (nullable = true)\n",
      " |    |    |-- name: string (nullable = true)\n",
      " |-- id: long (nullable = true)\n",
      " |-- imdb_id: string (nullable = true)\n",
      " |-- popularity: double (nullable = true)\n",
      " |-- release_date: string (nullable = true)\n",
      " |-- revenue: long (nullable = true)\n",
      " |-- runtime: long (nullable = true)\n",
      " |-- title: string (nullable = true)\n",
      " |-- vote_average: double (nullable = true)\n",
      " |-- vote_count: long (nullable = true)\n",
      "\n"
     ]
    },
    {
     "data": {
      "text/plain": [
       "12875"
      ]
     },
     "execution_count": 4,
     "metadata": {},
     "output_type": "execute_result"
    }
   ],
   "source": [
    "df.printSchema()\n",
    "df.count()"
   ]
  },
  {
   "cell_type": "code",
   "execution_count": 5,
   "id": "db02ad5b-f76a-4a6a-9d76-cc8ba684c2c8",
   "metadata": {},
   "outputs": [
    {
     "name": "stdout",
     "output_type": "stream",
     "text": [
      "+--------+-------+----------+----------+------------+-------+-------+--------------------+------------+----------+\n",
      "|  budget|     id|   imdb_id|popularity|release_date|revenue|runtime|               title|vote_average|vote_count|\n",
      "+--------+-------+----------+----------+------------+-------+-------+--------------------+------------+----------+\n",
      "|       0|  82720| tt0268042|     1.068|  1994-04-24|      0|    150|           Yamaleela|         7.6|         5|\n",
      "|       0|  29813| tt0297149|     2.638|  1974-05-15|      0|     87|      Les gloutonnes|         2.7|         3|\n",
      "|       0| 112044| tt1202515|       0.6|  2008-09-19|      0|     90|            Atlantis|         6.0|         1|\n",
      "|       0| 696567| tt0875003|      0.87|  1993-01-01|      0|     82|    Day of the Angel|         6.0|         1|\n",
      "|       0|  53004| tt0926151|     2.512|  2006-11-30| 291243|     85| Legend of Sudsakorn|         3.7|         3|\n",
      "|       0| 357917|tt10378618|     3.366|  1985-09-03|      0|     72|Orochi Strikes Again|         0.0|         0|\n",
      "|       0| 759175|tt13406136|    34.639|  2022-06-16|      0|     94|        The Princess|         6.8|       742|\n",
      "|       0| 334894| tt2848252|      1.64|  2014-10-01|      0|     90|      Nightmare Code|         4.4|        15|\n",
      "|       0|  55880| tt4387006|     1.831|  2007-06-23|      0|     80|Kiddy Grade II: M...|         7.3|         3|\n",
      "|       0| 451522| tt0397536|       0.6|  1990-10-04|      0|     81|     The Miles Ahead|         0.0|         0|\n",
      "|       0| 621338| tt8619974|       0.6|  2016-07-21|      0|     72|      The Way Home 2|         0.0|         0|\n",
      "|       0| 261605| tt0172713|     2.458|  1957-08-09|      0|     82|      Legend of Love|         0.0|         0|\n",
      "|       0|  27010| tt0112519|     4.825|  1995-08-22|      0|     92|      Black Scorpion|         5.9|        19|\n",
      "|       0| 278823| tt0176283|       0.6|  1989-07-02|      0|     71| Blessed Misfortune!|         0.0|         0|\n",
      "|   15000| 301647| tt3562846|     0.686|  2013-03-21|      0|     53|           Proll Out|         4.7|         6|\n",
      "|       0|  89858| tt0077877|     2.655|  1978-01-01|      0|     91| The Lucifer Complex|         2.6|        14|\n",
      "|       0|1012471|tt21160260|      0.77|  2022-07-16|      0|    100|Rainbow Sea Fly High|         4.7|         3|\n",
      "|       0| 303501| tt0100610|     1.541|  1990-07-19| 435191|     91|The Revenge of Angel|         6.0|         1|\n",
      "|15500000|  37725| tt0482527|    15.396|  2006-07-15|7385434|     95|It's a Boy Girl T...|         6.5|       997|\n",
      "|       0| 934194| tt9050310|   101.097|  2022-06-24|  15511|     87|          Slash/Back|         6.5|        64|\n",
      "+--------+-------+----------+----------+------------+-------+-------+--------------------+------------+----------+\n",
      "only showing top 20 rows\n",
      "\n",
      "root\n",
      " |-- budget: long (nullable = true)\n",
      " |-- id: long (nullable = true)\n",
      " |-- imdb_id: string (nullable = true)\n",
      " |-- popularity: double (nullable = true)\n",
      " |-- release_date: date (nullable = true)\n",
      " |-- revenue: long (nullable = true)\n",
      " |-- runtime: long (nullable = true)\n",
      " |-- title: string (nullable = true)\n",
      " |-- vote_average: double (nullable = true)\n",
      " |-- vote_count: long (nullable = true)\n",
      "\n"
     ]
    },
    {
     "data": {
      "text/plain": [
       "12875"
      ]
     },
     "execution_count": 5,
     "metadata": {},
     "output_type": "execute_result"
    }
   ],
   "source": [
    "df = df.drop(\"genres\")\n",
    "df = df.withColumn('release_date', F.to_date(df['release_date'], 'yyyy-MM-dd'))\n",
    "df.show()\n",
    "df.printSchema()\n",
    "df.count()"
   ]
  },
  {
   "cell_type": "code",
   "execution_count": 6,
   "id": "6679b6d0-9d18-40cc-9673-9cdd4331718a",
   "metadata": {},
   "outputs": [
    {
     "name": "stdout",
     "output_type": "stream",
     "text": [
      "+---------+------+---------+----------+------------+----------+-------+--------------------+------------+----------+\n",
      "|   budget|    id|  imdb_id|popularity|release_date|   revenue|runtime|               title|vote_average|vote_count|\n",
      "+---------+------+---------+----------+------------+----------+-------+--------------------+------------+----------+\n",
      "| 15500000| 37725|tt0482527|    15.396|  2006-07-15|   7385434|     95|It's a Boy Girl T...|         6.5|       997|\n",
      "|   900000|  1694|tt0089885|    13.891|  1985-10-18|   2023414|     86|         Re-Animator|       7.051|      1371|\n",
      "| 13749400|477489|tt5092380|    16.637|  2018-04-04|   2842040|     90|  Just a Breath Away|         6.3|       751|\n",
      "| 35000000|  5549|tt0100502|    24.013|  1990-06-22|  45681173|    117|           RoboCop 2|         6.0|      1769|\n",
      "| 36500000| 16911|tt0972558|    12.092|  2008-12-18|  21834845|    115|The Inhabited Island|         5.5|        95|\n",
      "| 13000000| 10546|tt0115986|    30.181|  1996-08-29|  17917287|     94|The Crow: City of...|       5.563|       492|\n",
      "| 69000000| 72331|tt1611224|    60.175|  2012-06-20| 116500000|    105|Abraham Lincoln: ...|         5.7|      3187|\n",
      "| 12000000|  8067|tt0119535|    16.579|  1997-10-24|   4400000|    103|A Life Less Ordinary|         6.1|       421|\n",
      "|200000000|181808|tt2527336|    54.754|  2017-12-13|1332698830|    152|Star Wars: The La...|         6.8|     14744|\n",
      "| 37000000|  2978|tt0097428|    95.658|  1989-06-16| 215394738|    108|     Ghostbusters II|       6.556|      4140|\n",
      "|  2000000| 74498|tt1475099|     1.539|  2008-11-27|     82827|     74|             Antisex|         3.0|         2|\n",
      "|379000000|  1865|tt1298650|   103.634|  2011-05-15|1045700000|    137|Pirates of the Ca...|         6.5|     13507|\n",
      "| 15000000| 11495|tt0087262|    17.985|  1984-05-11|  17080167|    115|         Firestarter|         6.3|       641|\n",
      "|  3500000| 46146|tt1740707|    18.811|  2010-10-29|   4159678|    103|        Troll Hunter|         6.7|      1498|\n",
      "| 50000000| 10529|tt0462465|    20.781|  2008-04-24|   7033683|    115|           Outlander|         6.4|      1191|\n",
      "|   200000| 30266|tt0006333|     3.563|  1916-12-24|   8000000|     99|20,000 Leagues Un...|         6.2|        51|\n",
      "|  5000000|500664|tt6499752|    27.942|  2018-05-31|  16706680|    100|             Upgrade|         7.5|      4096|\n",
      "| 40000000|  9306|tt0116654|    19.417|  1996-08-23|  49627779|     96|The Island of Dr....|         4.9|       491|\n",
      "|  8300000| 39468|tt0255198|    20.368|  2000-11-03|  11068800|    105|Godzilla vs. Mega...|         6.5|       168|\n",
      "|200000000|338953|tt4123432|    86.397|  2022-04-06| 407200000|    142|Fantastic Beasts:...|         6.7|      4150|\n",
      "+---------+------+---------+----------+------------+----------+-------+--------------------+------------+----------+\n",
      "only showing top 20 rows\n",
      "\n"
     ]
    },
    {
     "data": {
      "text/plain": [
       "1407"
      ]
     },
     "execution_count": 6,
     "metadata": {},
     "output_type": "execute_result"
    }
   ],
   "source": [
    "df_novo = df.filter(\n",
    "    (F.col(\"revenue\") != 0) & (F.col(\"budget\") != 0) & (F.col(\"runtime\") != 0))\n",
    "df_novo.show()\n",
    "df_novo.count()"
   ]
  },
  {
   "cell_type": "code",
   "execution_count": 7,
   "id": "b83081ea-b51d-4aeb-bd91-59b740a247d5",
   "metadata": {},
   "outputs": [
    {
     "name": "stdout",
     "output_type": "stream",
     "text": [
      "+--------+------+----------+----------+------------+--------+-------+--------------------+------------+----------+\n",
      "|  budget|    id|   imdb_id|popularity|release_date| revenue|runtime|               title|vote_average|vote_count|\n",
      "+--------+------+----------+----------+------------+--------+-------+--------------------+------------+----------+\n",
      "|  620000|330418| tt4806232|     3.239|  2015-06-26| 1400000|    146|  Indru Netru Naalai|         7.7|        31|\n",
      "| 4000000| 36775| tt0062657|     5.773|  1967-12-22|10000000|    102|       The Ambushers|         5.0|        31|\n",
      "|    3000| 65104| tt0466103|     1.113|  2005-06-17|   24000|    107|                Dust|         5.6|        31|\n",
      "| 4000000| 36271| tt0116770|     4.602|  1996-11-15|  219449|     98|       Killer Tongue|         5.4|        32|\n",
      "| 5000000| 76516| tt0100129|     3.641|  1990-11-08|  485772|     90| Meet the Applegates|         5.5|        32|\n",
      "| 1500000| 16427| tt0377744|     2.528|  2004-05-14|10057021|     98|A Day Without a M...|       5.015|        33|\n",
      "| 3000000| 62732| tt1414840|     1.684|  2008-12-23|17850711|    100|       Lovey-Dovey 2|         4.7|        33|\n",
      "|20000000| 30379| tt0263728|     5.046|  2001-09-07| 6000000|    104|Megiddo: The Omeg...|         4.5|        35|\n",
      "| 5900000| 97519| tt0070337|     7.124|  1973-03-14| 3800000|    147|        Lost Horizon|         5.5|        35|\n",
      "| 3800000|589759|tt11006950|       5.2|  2022-11-03| 3562423|     88|The Nutcracker an...|         6.7|        36|\n",
      "| 8000000| 25805| tt1293793|      4.24|  2009-10-29|10814122|    101| The Book of Masters|         4.6|        37|\n",
      "|  662141| 59964| tt0035703|     2.685|  1943-04-09| 1606624|     98|    Cabin in the Sky|         6.3|        37|\n",
      "|  640000| 28685| tt0091464|     4.932|  1986-07-20| 2459000|     90|             Malcolm|         6.5|        38|\n",
      "|   10000|951546| tt7909204|    113.88|  2022-04-12|     100|     77|      Reign of Chaos|         5.6|        38|\n",
      "|   65000| 27642| tt0060877|     4.786|  1966-03-01| 1730000|     81|      Queen of Blood|         5.4|        40|\n",
      "|10000000|462115| tt5662550|     8.023|  2017-07-19|  151493|     92|        Dead Trigger|         3.8|        40|\n",
      "| 3500000| 42622| tt0062974|     5.661|  1968-10-09|11600000|    144|    Finian's Rainbow|         5.8|        41|\n",
      "| 8500000|211166| tt1456606|     7.649|  2014-09-12|  600000|    110|     Rio, I Love You|         4.9|        41|\n",
      "| 1500000| 25952| tt0047947|     5.258|  1955-04-20| 1000000|     81|   Conquest of Space|         5.6|        41|\n",
      "| 3500000| 37851| tt1620549|     3.322|  2010-04-15| 2294357|     86|Hooked on the Gam...|         5.0|        42|\n",
      "+--------+------+----------+----------+------------+--------+-------+--------------------+------------+----------+\n",
      "only showing top 20 rows\n",
      "\n"
     ]
    },
    {
     "data": {
      "text/plain": [
       "1316"
      ]
     },
     "execution_count": 7,
     "metadata": {},
     "output_type": "execute_result"
    }
   ],
   "source": [
    "df_novo = df_novo.filter(F.col(\"vote_count\") >= 30)\n",
    "df_novo.orderBy(F.col(\"vote_count\")).show()\n",
    "df_novo.count()"
   ]
  },
  {
   "cell_type": "code",
   "execution_count": 8,
   "id": "74ef757f-f4ae-4255-aad0-b35e82af8948",
   "metadata": {},
   "outputs": [
    {
     "name": "stdout",
     "output_type": "stream",
     "text": [
      "Data extraída: 2024-03-27\n"
     ]
    }
   ],
   "source": [
    "caminho = \"s3://jvitor-desafio/Raw/TMDB/JSON/2024/03/27/\"\n",
    "partes = caminho.split(\"/\")\n",
    "\n",
    "# A última parte do caminho é a data no formato \"YYYY/MM/DD\"\n",
    "ano = partes[-4]\n",
    "mes = partes[-3]\n",
    "dia = partes[-2]\n",
    "\n",
    "data_str = f\"{ano}-{mes}-{dia}\"\n",
    "\n",
    "data = datetime.strptime(data_str, \"%Y-%m-%d\").date()\n",
    "\n",
    "print(\"Data extraída:\", data)\n"
   ]
  },
  {
   "cell_type": "code",
   "execution_count": 9,
   "id": "161f6864-f0a9-4b72-aeaf-309564055334",
   "metadata": {},
   "outputs": [],
   "source": [
    "df_novo = df_novo.withColumn(\"extraction_date\", F.lit(data))"
   ]
  },
  {
   "cell_type": "code",
   "execution_count": 10,
   "id": "a95c21f1-f3f6-49fb-8a43-62b590c9891a",
   "metadata": {},
   "outputs": [
    {
     "name": "stdout",
     "output_type": "stream",
     "text": [
      "+---------+------+---------+----------+------------+----------+-------+--------------------+------------+----------+---------------+\n",
      "|   budget|    id|  imdb_id|popularity|release_date|   revenue|runtime|               title|vote_average|vote_count|extraction_date|\n",
      "+---------+------+---------+----------+------------+----------+-------+--------------------+------------+----------+---------------+\n",
      "| 15500000| 37725|tt0482527|    15.396|  2006-07-15|   7385434|     95|It's a Boy Girl T...|         6.5|       997|     2024-03-27|\n",
      "|   900000|  1694|tt0089885|    13.891|  1985-10-18|   2023414|     86|         Re-Animator|       7.051|      1371|     2024-03-27|\n",
      "| 13749400|477489|tt5092380|    16.637|  2018-04-04|   2842040|     90|  Just a Breath Away|         6.3|       751|     2024-03-27|\n",
      "| 35000000|  5549|tt0100502|    24.013|  1990-06-22|  45681173|    117|           RoboCop 2|         6.0|      1769|     2024-03-27|\n",
      "| 36500000| 16911|tt0972558|    12.092|  2008-12-18|  21834845|    115|The Inhabited Island|         5.5|        95|     2024-03-27|\n",
      "| 13000000| 10546|tt0115986|    30.181|  1996-08-29|  17917287|     94|The Crow: City of...|       5.563|       492|     2024-03-27|\n",
      "| 69000000| 72331|tt1611224|    60.175|  2012-06-20| 116500000|    105|Abraham Lincoln: ...|         5.7|      3187|     2024-03-27|\n",
      "| 12000000|  8067|tt0119535|    16.579|  1997-10-24|   4400000|    103|A Life Less Ordinary|         6.1|       421|     2024-03-27|\n",
      "|200000000|181808|tt2527336|    54.754|  2017-12-13|1332698830|    152|Star Wars: The La...|         6.8|     14744|     2024-03-27|\n",
      "| 37000000|  2978|tt0097428|    95.658|  1989-06-16| 215394738|    108|     Ghostbusters II|       6.556|      4140|     2024-03-27|\n",
      "|379000000|  1865|tt1298650|   103.634|  2011-05-15|1045700000|    137|Pirates of the Ca...|         6.5|     13507|     2024-03-27|\n",
      "| 15000000| 11495|tt0087262|    17.985|  1984-05-11|  17080167|    115|         Firestarter|         6.3|       641|     2024-03-27|\n",
      "|  3500000| 46146|tt1740707|    18.811|  2010-10-29|   4159678|    103|        Troll Hunter|         6.7|      1498|     2024-03-27|\n",
      "| 50000000| 10529|tt0462465|    20.781|  2008-04-24|   7033683|    115|           Outlander|         6.4|      1191|     2024-03-27|\n",
      "|   200000| 30266|tt0006333|     3.563|  1916-12-24|   8000000|     99|20,000 Leagues Un...|         6.2|        51|     2024-03-27|\n",
      "|  5000000|500664|tt6499752|    27.942|  2018-05-31|  16706680|    100|             Upgrade|         7.5|      4096|     2024-03-27|\n",
      "| 40000000|  9306|tt0116654|    19.417|  1996-08-23|  49627779|     96|The Island of Dr....|         4.9|       491|     2024-03-27|\n",
      "|  8300000| 39468|tt0255198|    20.368|  2000-11-03|  11068800|    105|Godzilla vs. Mega...|         6.5|       168|     2024-03-27|\n",
      "|200000000|338953|tt4123432|    86.397|  2022-04-06| 407200000|    142|Fantastic Beasts:...|         6.7|      4150|     2024-03-27|\n",
      "|175000000|315635|tt2250912|   123.713|  2017-07-05| 880166924|    133|Spider-Man: Homec...|       7.338|     21061|     2024-03-27|\n",
      "+---------+------+---------+----------+------------+----------+-------+--------------------+------------+----------+---------------+\n",
      "only showing top 20 rows\n",
      "\n",
      "root\n",
      " |-- budget: long (nullable = true)\n",
      " |-- id: long (nullable = true)\n",
      " |-- imdb_id: string (nullable = true)\n",
      " |-- popularity: double (nullable = true)\n",
      " |-- release_date: date (nullable = true)\n",
      " |-- revenue: long (nullable = true)\n",
      " |-- runtime: long (nullable = true)\n",
      " |-- title: string (nullable = true)\n",
      " |-- vote_average: double (nullable = true)\n",
      " |-- vote_count: long (nullable = true)\n",
      " |-- extraction_date: date (nullable = false)\n",
      "\n"
     ]
    }
   ],
   "source": [
    "df_novo.show()\n",
    "df_novo.printSchema()"
   ]
  },
  {
   "cell_type": "code",
   "execution_count": 11,
   "id": "b87efe31-c0e3-4807-91a1-44877f675ff8",
   "metadata": {},
   "outputs": [
    {
     "name": "stdout",
     "output_type": "stream",
     "text": [
      "+-------+-------------------+------------------+---------+------------------+--------------------+------------------+--------------------+------------------+------------------+\n",
      "|summary|             budget|                id|  imdb_id|        popularity|             revenue|           runtime|               title|      vote_average|        vote_count|\n",
      "+-------+-------------------+------------------+---------+------------------+--------------------+------------------+--------------------+------------------+------------------+\n",
      "|  count|               1316|              1316|     1316|              1316|                1316|              1316|                1316|              1316|              1316|\n",
      "|   mean|  4.5621839943769E7|105134.17021276595|     NULL| 30.12173100303951|1.3586896763677812E8| 107.8966565349544|              1495.6| 6.277963525835866|3289.6436170212764|\n",
      "| stddev|5.851431836267712E7|172668.52421473403|     NULL|33.069584051749466|2.6194405985221502E8|18.405982357140616|   876.4603813065369|0.8768444738767779| 4859.153752847004|\n",
      "|    min|                  5|                11|tt0006333|             1.113|                   1|                66|(T)Raumschiff Sur...|             2.588|                31|\n",
      "|    max|          379000000|            951546|tt9844322|           696.014|          2923706026|               189|            Æon Flux|             8.507|             35449|\n",
      "+-------+-------------------+------------------+---------+------------------+--------------------+------------------+--------------------+------------------+------------------+\n",
      "\n"
     ]
    }
   ],
   "source": [
    "df_novo.describe().show()"
   ]
  }
 ],
 "metadata": {
  "kernelspec": {
   "display_name": "Python 3 (ipykernel)",
   "language": "python",
   "name": "python3"
  },
  "language_info": {
   "codemirror_mode": {
    "name": "ipython",
    "version": 3
   },
   "file_extension": ".py",
   "mimetype": "text/x-python",
   "name": "python",
   "nbconvert_exporter": "python",
   "pygments_lexer": "ipython3",
   "version": "3.11.6"
  }
 },
 "nbformat": 4,
 "nbformat_minor": 5
}
